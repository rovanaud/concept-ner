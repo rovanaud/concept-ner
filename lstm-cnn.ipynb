{
 "cells": [
  {
   "cell_type": "code",
   "execution_count": null,
   "id": "2a47161b",
   "metadata": {},
   "outputs": [],
   "source": [
    "!pip install torch TorchCRF seqeval transformers --quiet"
   ]
  },
  {
   "cell_type": "code",
   "execution_count": 1,
   "id": "345f2286",
   "metadata": {},
   "outputs": [],
   "source": [
    "import warnings\n",
    "warnings.filterwarnings(\"ignore\", category=UserWarning, message=\".*?seems not to be NE tag.*?\")"
   ]
  },
  {
   "cell_type": "code",
   "execution_count": 2,
   "id": "cc073e65",
   "metadata": {},
   "outputs": [
    {
     "name": "stderr",
     "output_type": "stream",
     "text": [
      "/users/eleves-a/2021/ivan.tchomba-ngueko/ensae/concept-ner/.venv/lib64/python3.9/site-packages/tqdm/auto.py:21: TqdmWarning: IProgress not found. Please update jupyter and ipywidgets. See https://ipywidgets.readthedocs.io/en/stable/user_install.html\n",
      "  from .autonotebook import tqdm as notebook_tqdm\n"
     ]
    }
   ],
   "source": [
    "from utils import *"
   ]
  },
  {
   "cell_type": "code",
   "execution_count": 3,
   "id": "85bcbef8",
   "metadata": {},
   "outputs": [],
   "source": [
    "labels, labels_vocab, labels_vocab_inv = get_labels()"
   ]
  },
  {
   "cell_type": "code",
   "execution_count": 4,
   "id": "1d82bd41",
   "metadata": {},
   "outputs": [
    {
     "data": {
      "text/plain": [
       "59"
      ]
     },
     "execution_count": 4,
     "metadata": {},
     "output_type": "execute_result"
    }
   ],
   "source": [
    "len(labels_vocab.values())"
   ]
  },
  {
   "cell_type": "code",
   "execution_count": 5,
   "id": "96d108d9",
   "metadata": {},
   "outputs": [],
   "source": [
    "import torch\n",
    "import torch.nn as nn\n",
    "from torch.utils.data import DataLoader, Dataset, TensorDataset\n",
    "from transformers import AutoModel, AutoTokenizer\n",
    "from TorchCRF import CRF\n",
    "import numpy as np\n",
    "from seqeval.metrics import f1_score, precision_score, recall_score, classification_report\n",
    "from tqdm import tqdm\n",
    "import os\n",
    "import pickle\n"
   ]
  },
  {
   "cell_type": "code",
   "execution_count": 57,
   "id": "a025d697",
   "metadata": {},
   "outputs": [],
   "source": [
    "# Configuration\n",
    "class Config:\n",
    "    model_name = \"microsoft/deberta-v3-base\"\n",
    "    encoder_outdim = 768\n",
    "    max_length = 80\n",
    "    batch_size = 256  # Peut être augmenté car moins de mémoire nécessaire\n",
    "    epochs = 100      # Peut être augmenté car entraînement plus rapide\n",
    "\n",
    "    learning_rate = 5e-3  # Peut être plus élevé car moins de paramètres\n",
    "    hidden_dim = 256\n",
    "    dropout = 0.1\n",
    "    num_labels = len(labels)\n",
    "    device = torch.device(\"cuda\" if torch.cuda.is_available() else \"cpu\")\n",
    "    embeddings_dir = \"precalculated_embeddings\"\n",
    "\n",
    "    kernel_size = 3\n",
    "    padding = 1\n",
    "\n",
    "    ignore_index=-100\n",
    "config = Config()\n"
   ]
  },
  {
   "cell_type": "code",
   "execution_count": 7,
   "id": "30e2120c",
   "metadata": {},
   "outputs": [],
   "source": [
    "from datasets import Dataset"
   ]
  },
  {
   "cell_type": "code",
   "execution_count": 8,
   "id": "10026be9",
   "metadata": {},
   "outputs": [],
   "source": [
    "\n",
    "# Étape 2: Créer le dataset qui utilise les embeddings précalculés\n",
    "class EmbeddingsDataset(Dataset):\n",
    "    def __init__(self, data_path, parts=None, complement='_5000'):\n",
    "        # Charger les données précalculées\n",
    "        # parts = 5\n",
    "        data = [None] * parts\n",
    "        for i in range(parts):\n",
    "            index = f'_{i+1}' if parts > 1 else ''\n",
    "            with open(data_path + index + f'{complement}_data.pkl', 'rb') as f:\n",
    "                data[i] = pickle.load(f)\n",
    "        \n",
    "        self.embeddings = torch.cat([data[i]['embeddings'] for i in range(parts)], dim=0)\n",
    "        self.attention_masks = torch.cat([data[i]['attention_masks'] for i in range(parts)], dim=0).to(torch.uint8)\n",
    "        self.labels = torch.cat([data[i]['labels'] for i in range(parts)], dim=0).to(torch.long)\n",
    "        # self.labels[self.labels == -100] = config.num_labels  # Remplacer -100 par num_labels\n",
    "        self.tag2id = data[0]['tag2id']\n",
    "        self.id2tag = data[0]['id2tag']\n",
    "\n",
    "        # redo the labels\n",
    "        for label, id in self.tag2id.items():\n",
    "            if id == -100:\n",
    "                continue\n",
    "            self.labels[self.labels == id] = labels_vocab[label]\n",
    "        self.tag2id = labels_vocab\n",
    "        self.id2tag = labels_vocab_inv\n",
    "    def __len__(self):\n",
    "        return len(self.embeddings)\n",
    "    \n",
    "    def __getitem__(self, idx):\n",
    "        return {\n",
    "            'embeddings': self.embeddings[idx],\n",
    "            'attention_mask': self.attention_masks[idx],\n",
    "            'labels': self.labels[idx]\n",
    "        }\n"
   ]
  },
  {
   "cell_type": "code",
   "execution_count": 49,
   "id": "ecde5116",
   "metadata": {},
   "outputs": [],
   "source": [
    "class BiLSTM_CNN_Classifier(nn.Module):\n",
    "    def __init__(self, config):\n",
    "        super().__init__()\n",
    "        self.lstm = nn.LSTM(config.encoder_outdim, config.hidden_dim, bidirectional=True, batch_first=True)\n",
    "        self.conv = nn.Conv1d(config.hidden_dim * 2, config.hidden_dim, config.kernel_size, padding=config.padding)\n",
    "        self.norm = nn.LayerNorm(config.hidden_dim)\n",
    "        self.dropout = nn.Dropout(config.dropout)\n",
    "        self.classifier = nn.Linear(config.hidden_dim, config.num_labels)\n",
    "\n",
    "    def forward(self, embedding, attention_mask, labels=None):\n",
    "        lstm_out, _ = self.lstm(embedding)\n",
    "        conv_in = lstm_out.transpose(1, 2)  # [B, D, T]\n",
    "        conv_out = self.conv(conv_in).transpose(1, 2)\n",
    "        normed = self.norm(conv_out)\n",
    "        dropped = self.dropout(normed)\n",
    "        logits = self.classifier(dropped)\n",
    "        if labels is not None:\n",
    "            loss = nn.CrossEntropyLoss(ignore_index=config.ignore_index)(logits.view(-1, logits.size(-1)), labels.view(-1))\n",
    "            return loss\n",
    "        return torch.argmax(logits, dim=-1)\n"
   ]
  },
  {
   "cell_type": "code",
   "execution_count": 12,
   "id": "dfe5ded0",
   "metadata": {},
   "outputs": [],
   "source": [
    "train_data = EmbeddingsDataset('data/train', 4)\n",
    "test_data = EmbeddingsDataset('data/test', 1, '')\n",
    "val_data = EmbeddingsDataset('data/valid', 1, '')"
   ]
  },
  {
   "cell_type": "code",
   "execution_count": null,
   "id": "8282c808",
   "metadata": {},
   "outputs": [],
   "source": []
  },
  {
   "cell_type": "code",
   "execution_count": 13,
   "id": "21c3087e",
   "metadata": {},
   "outputs": [],
   "source": [
    "# Obtenir les mappings tag<->id et mettre à jour config\n",
    "tag2id = train_data.tag2id\n",
    "id2tag = train_data.id2tag\n",
    "# config.num_labels = len(tag2id)\n",
    "\n",
    "# Créer les dataloaders\n",
    "train_dataloader = DataLoader(train_data, batch_size=config.batch_size, shuffle=True)\n",
    "val_dataloader = DataLoader(val_data, batch_size=config.batch_size)\n",
    "\n",
    "# Obtenir la dimension des embeddings\n",
    "embedding_dim = train_data.embeddings.size(-1)\n"
   ]
  },
  {
   "cell_type": "code",
   "execution_count": 52,
   "id": "e5b24513",
   "metadata": {},
   "outputs": [],
   "source": [
    "from seqeval.metrics import classification_report, f1_score, precision_score, recall_score\n",
    "\n",
    "def evaluate(model, dataloader, id2tag, device):\n",
    "    model.eval()\n",
    "    all_preds = []\n",
    "    all_labels = []\n",
    "\n",
    "    with torch.no_grad():\n",
    "        for batch in dataloader:\n",
    "            embeddings = batch['embeddings'].to(device)          # (B, T, D)\n",
    "            attention_mask = batch['attention_mask'].to(device)  # (B, T)\n",
    "            labels = batch['labels'].to(device)                  # (B, T)\n",
    "\n",
    "            # logits = model(embeddings, attention_mask)           # (B, T, num_labels)\n",
    "            # predictions = torch.argmax(logits, dim=-1)           # (B, T)\n",
    "            # print(predictions.shape)\n",
    "            predictions = model(embeddings, attention_mask)        # (B, T)\n",
    "\n",
    "            # Convert predictions and labels to lists of tag names\n",
    "            for i in range(labels.size(0)):  # for each sequence\n",
    "                pred_seq = []\n",
    "                label_seq = []\n",
    "                for j in range(labels.size(1)):\n",
    "                    if attention_mask[i, j] == 1 and labels[i, j] != -100:\n",
    "                        pred_tag = id2tag[predictions[i, j].item()]\n",
    "                        label_tag = id2tag[labels[i, j].item()]\n",
    "                        pred_seq.append(pred_tag)\n",
    "                        label_seq.append(label_tag)\n",
    "                all_preds.append(pred_seq)\n",
    "                all_labels.append(label_seq)\n",
    "\n",
    "    return {\n",
    "        'f1': f1_score(all_labels, all_preds),\n",
    "        'precision': precision_score(all_labels, all_preds),\n",
    "        'recall': recall_score(all_labels, all_preds),\n",
    "        'report': classification_report(all_labels, all_preds, zero_division=0)\n",
    "    }\n"
   ]
  },
  {
   "cell_type": "code",
   "execution_count": 15,
   "id": "a86ba938",
   "metadata": {},
   "outputs": [],
   "source": [
    "import torch\n",
    "import torch.optim as optim\n",
    "\n",
    "device = torch.device('cuda' if torch.cuda.is_available() else 'cpu')\n"
   ]
  },
  {
   "cell_type": "code",
   "execution_count": 53,
   "id": "2fe03ece",
   "metadata": {},
   "outputs": [],
   "source": [
    "\n",
    "model = BiLSTM_CNN_Classifier(config).to(device)\n",
    "criterion = nn.CrossEntropyLoss(ignore_index=-100)\n",
    "\n",
    "optimizer = optim.AdamW(model.parameters(), lr=2e-5)\n"
   ]
  },
  {
   "cell_type": "code",
   "execution_count": 73,
   "id": "2cf7d119",
   "metadata": {},
   "outputs": [
    {
     "data": {
      "text/plain": [
       "BiLSTM_CNN_Classifier(\n",
       "  (lstm): LSTM(768, 256, batch_first=True, bidirectional=True)\n",
       "  (conv): Conv1d(512, 256, kernel_size=(3,), stride=(1,), padding=(1,))\n",
       "  (norm): LayerNorm((256,), eps=1e-05, elementwise_affine=True)\n",
       "  (dropout): Dropout(p=0.1, inplace=False)\n",
       "  (classifier): Linear(in_features=256, out_features=59, bias=True)\n",
       ")"
      ]
     },
     "execution_count": 73,
     "metadata": {},
     "output_type": "execute_result"
    }
   ],
   "source": [
    "model"
   ]
  },
  {
   "cell_type": "code",
   "execution_count": 54,
   "id": "8fdac55c",
   "metadata": {},
   "outputs": [
    {
     "data": {
      "text/plain": [
       "{'f1': np.float64(0.014797277300976621),\n",
       " 'precision': np.float64(0.01012282359292752),\n",
       " 'recall': np.float64(0.02749266862170088),\n",
       " 'report': '              precision    recall  f1-score   support\\n\\n      ANIMAL       0.00      0.00      0.00        56\\n    ARTIFACT       0.00      0.00      0.00        94\\n       ASSET       0.00      0.00      0.00         0\\n     BIOLOGY       0.00      0.04      0.00        24\\n   CELESTIAL       0.00      0.00      0.00         0\\n     CULTURE       0.00      0.00      0.00         0\\n    DATETIME       0.00      0.00      0.00         0\\n  DISCIPLINE       0.00      0.00      0.00        36\\n     DISEASE       0.00      0.00      0.00        58\\n       EVENT       0.02      0.03      0.02      1430\\n     FEELING       0.00      0.00      0.00         0\\n        FOOD       0.00      0.00      0.00        31\\n       GROUP       0.00      0.00      0.00       205\\n    LANGUAGE       0.01      0.05      0.01       423\\n         LAW       0.00      0.03      0.01       185\\n         LOC       0.00      0.00      0.00       222\\n     MEASURE       0.01      0.02      0.01       160\\n       MEDIA       0.03      0.08      0.05      1368\\n       MONEY       0.01      0.03      0.01       216\\n         ORG       0.01      0.00      0.00       489\\n        PART       0.00      0.00      0.00        50\\n         PER       0.02      0.02      0.02      1175\\n       PLANT       0.00      0.00      0.00       133\\n    PROPERTY       0.00      0.00      0.00        21\\n       PSYCH       0.01      0.01      0.01       803\\n    RELATION       0.00      0.00      0.00         2\\n      STRUCT       0.01      0.03      0.02       595\\n   SUBSTANCE       0.00      0.00      0.00       327\\n       SUPER       0.00      0.00      0.00        81\\n\\n   micro avg       0.01      0.03      0.01      8184\\n   macro avg       0.00      0.01      0.01      8184\\nweighted avg       0.02      0.03      0.02      8184\\n'}"
      ]
     },
     "execution_count": 54,
     "metadata": {},
     "output_type": "execute_result"
    }
   ],
   "source": [
    "evaluate(model, val_dataloader, id2tag, config.device)"
   ]
  },
  {
   "cell_type": "code",
   "execution_count": 58,
   "id": "f8f2c9ef",
   "metadata": {},
   "outputs": [
    {
     "name": "stdout",
     "output_type": "stream",
     "text": [
      "Epoch 1    - Loss: 0.02023 - F1: 0.0066 - Precision: 0.0079 - Recall: 0.0057\n",
      "Epoch 11   - Loss: 0.01019 - F1: 0.1979 - Precision: 0.1586 - Recall: 0.2630\n",
      "Epoch 21   - Loss: 0.00892 - F1: 0.2196 - Precision: 0.1705 - Recall: 0.3087\n",
      "Epoch 31   - Loss: 0.00831 - F1: 0.2483 - Precision: 0.2023 - Recall: 0.3212\n",
      "Epoch 41   - Loss: 0.00788 - F1: 0.2371 - Precision: 0.1862 - Recall: 0.3265\n",
      "Epoch 51   - Loss: 0.00751 - F1: 0.2601 - Precision: 0.2094 - Recall: 0.3431\n",
      "Epoch 61   - Loss: 0.00718 - F1: 0.2448 - Precision: 0.1942 - Recall: 0.3313\n",
      "Epoch 71   - Loss: 0.00682 - F1: 0.2522 - Precision: 0.2048 - Recall: 0.3281\n",
      "Epoch 81   - Loss: 0.00642 - F1: 0.2531 - Precision: 0.2047 - Recall: 0.3315\n",
      "Epoch 91   - Loss: 0.00598 - F1: 0.2576 - Precision: 0.2124 - Recall: 0.3273\n"
     ]
    }
   ],
   "source": [
    "# from tqdm import trange\n",
    "num_epochs = 100\n",
    "history = [None] * num_epochs\n",
    "\n",
    "for epoch in range(num_epochs):\n",
    "    model.train()\n",
    "    total_loss = 0\n",
    "\n",
    "    for batch in train_dataloader:\n",
    "        embeddings = batch['embeddings'].to(device)           # (B, T, D)\n",
    "        attention_mask = batch['attention_mask'].to(device)   # (B, T)\n",
    "        labels = batch['labels'].to(device)                   # (B, T)\n",
    "\n",
    "        optimizer.zero_grad()\n",
    "        loss = model(embeddings, attention_mask, labels)            # (B, T, num_labels)\n",
    "        \n",
    "        optimizer.zero_grad()\n",
    "        loss.backward()\n",
    "        optimizer.step()\n",
    "\n",
    "        total_loss += loss.item()\n",
    "\n",
    "        total_loss += loss.item()\n",
    "        \n",
    "    total_loss /= len(train_dataloader.dataset)\n",
    "    \n",
    "    # Validation\n",
    "    history[epoch] = {\n",
    "        'epoch': epoch,\n",
    "        'train_loss': total_loss,\n",
    "        'metrics': evaluate(model, val_dataloader, id2tag, device)\n",
    "    }\n",
    "    \n",
    "\n",
    "    \n",
    "    if epoch % 10 == 0:\n",
    "        print(f\"Epoch {epoch+1:<4} - Loss: {total_loss:<7.5f} - F1: {history[epoch]['metrics']['f1']:<6.4f} - Precision: {history[epoch]['metrics']['precision']:<6.4f} - Recall: {history[epoch]['metrics']['recall']:<6.4f}\")\n"
   ]
  },
  {
   "cell_type": "code",
   "execution_count": 61,
   "id": "1226f126",
   "metadata": {},
   "outputs": [
    {
     "name": "stdout",
     "output_type": "stream",
     "text": [
      "Epoch 101  - Loss: 0.00551 - F1: 0.2674 - Precision: 0.2228 - Recall: 0.3343\n",
      "Epoch 111  - Loss: 0.00506 - F1: 0.2296 - Precision: 0.1817 - Recall: 0.3117\n",
      "Epoch 121  - Loss: 0.00467 - F1: 0.2516 - Precision: 0.2042 - Recall: 0.3275\n",
      "Epoch 131  - Loss: 0.00435 - F1: 0.2396 - Precision: 0.1909 - Recall: 0.3218\n",
      "Epoch 141  - Loss: 0.00407 - F1: 0.2582 - Precision: 0.2138 - Recall: 0.3259\n",
      "Epoch 151  - Loss: 0.00380 - F1: 0.2485 - Precision: 0.2021 - Recall: 0.3226\n",
      "Epoch 161  - Loss: 0.00362 - F1: 0.2424 - Precision: 0.1951 - Recall: 0.3200\n",
      "Epoch 171  - Loss: 0.00344 - F1: 0.2541 - Precision: 0.2090 - Recall: 0.3239\n",
      "Epoch 181  - Loss: 0.00331 - F1: 0.2484 - Precision: 0.2017 - Recall: 0.3233\n",
      "Epoch 191  - Loss: 0.00313 - F1: 0.2422 - Precision: 0.1947 - Recall: 0.3203\n",
      "Epoch 201  - Loss: 0.00298 - F1: 0.2486 - Precision: 0.2028 - Recall: 0.3212\n",
      "Epoch 211  - Loss: 0.00283 - F1: 0.2412 - Precision: 0.1937 - Recall: 0.3195\n",
      "Epoch 221  - Loss: 0.00271 - F1: 0.2361 - Precision: 0.1894 - Recall: 0.3133\n",
      "Epoch 231  - Loss: 0.00259 - F1: 0.2364 - Precision: 0.1890 - Recall: 0.3155\n",
      "Epoch 241  - Loss: 0.00248 - F1: 0.2355 - Precision: 0.1878 - Recall: 0.3159\n",
      "Epoch 251  - Loss: 0.00237 - F1: 0.2429 - Precision: 0.1973 - Recall: 0.3159\n",
      "Epoch 261  - Loss: 0.00234 - F1: 0.2288 - Precision: 0.1818 - Recall: 0.3087\n",
      "Epoch 271  - Loss: 0.00217 - F1: 0.2330 - Precision: 0.1870 - Recall: 0.3088\n",
      "Epoch 281  - Loss: 0.00207 - F1: 0.2403 - Precision: 0.1946 - Recall: 0.3141\n",
      "Epoch 291  - Loss: 0.00196 - F1: 0.2257 - Precision: 0.1800 - Recall: 0.3025\n"
     ]
    }
   ],
   "source": [
    "# from tqdm import trange\n",
    "num_epochs = 200\n",
    "history += [None] * num_epochs\n",
    "\n",
    "for epoch in range(100, 100 + num_epochs):\n",
    "    model.train()\n",
    "    total_loss = 0\n",
    "\n",
    "    for batch in train_dataloader:\n",
    "        embeddings = batch['embeddings'].to(device)           # (B, T, D)\n",
    "        attention_mask = batch['attention_mask'].to(device)   # (B, T)\n",
    "        labels = batch['labels'].to(device)                   # (B, T)\n",
    "\n",
    "        optimizer.zero_grad()\n",
    "        loss = model(embeddings, attention_mask, labels)            # (B, T, num_labels)\n",
    "        \n",
    "        optimizer.zero_grad()\n",
    "        loss.backward()\n",
    "        optimizer.step()\n",
    "\n",
    "        total_loss += loss.item()\n",
    "\n",
    "        total_loss += loss.item()\n",
    "        \n",
    "    total_loss /= len(train_dataloader.dataset)\n",
    "    \n",
    "    # Validation\n",
    "    history[epoch] = {\n",
    "        'epoch': epoch,\n",
    "        'train_loss': total_loss,\n",
    "        'metrics': evaluate(model, val_dataloader, id2tag, device)\n",
    "    }\n",
    "    \n",
    "\n",
    "    \n",
    "    if epoch % 10 == 0:\n",
    "        print(f\"Epoch {epoch+1:<4} - Loss: {total_loss:<7.5f} - F1: {history[epoch]['metrics']['f1']:<6.4f} - Precision: {history[epoch]['metrics']['precision']:<6.4f} - Recall: {history[epoch]['metrics']['recall']:<6.4f}\")\n"
   ]
  },
  {
   "cell_type": "code",
   "execution_count": 63,
   "id": "ea5e17c0",
   "metadata": {},
   "outputs": [],
   "source": [
    "metrics = evaluate(model, val_dataloader, id2tag=train_data.id2tag, device=device)"
   ]
  },
  {
   "cell_type": "code",
   "execution_count": 64,
   "id": "1b91b638",
   "metadata": {},
   "outputs": [
    {
     "name": "stdout",
     "output_type": "stream",
     "text": [
      "              precision    recall  f1-score   support\n",
      "\n",
      "      ANIMAL       0.44      0.12      0.19        56\n",
      "    ARTIFACT       0.36      0.32      0.34        94\n",
      "       ASSET       0.00      0.00      0.00         0\n",
      "     BIOLOGY       0.20      0.17      0.18        24\n",
      "  DISCIPLINE       0.07      0.08      0.08        36\n",
      "     DISEASE       0.35      0.28      0.31        58\n",
      "       EVENT       0.50      0.58      0.54      1430\n",
      "        FOOD       0.15      0.13      0.14        31\n",
      "       GROUP       0.06      0.01      0.02       205\n",
      "    LANGUAGE       0.24      0.35      0.29       423\n",
      "         LAW       0.00      0.00      0.00       185\n",
      "         LOC       0.23      0.20      0.21       222\n",
      "     MEASURE       0.14      0.14      0.14       160\n",
      "       MEDIA       0.35      0.39      0.37      1368\n",
      "       MONEY       0.00      0.00      0.00       216\n",
      "         ORG       0.16      0.25      0.19       489\n",
      "        PART       0.02      0.04      0.02        50\n",
      "         PER       0.46      0.59      0.52      1175\n",
      "       PLANT       0.00      0.00      0.00       133\n",
      "    PROPERTY       0.00      0.05      0.01        21\n",
      "       PSYCH       0.00      0.00      0.00       803\n",
      "    RELATION       0.00      0.00      0.00         2\n",
      "      STRUCT       0.07      0.13      0.09       595\n",
      "   SUBSTANCE       0.00      0.01      0.00       327\n",
      "       SUPER       0.01      0.02      0.01        81\n",
      "\n",
      "   micro avg       0.19      0.31      0.23      8184\n",
      "   macro avg       0.15      0.15      0.15      8184\n",
      "weighted avg       0.26      0.31      0.28      8184\n",
      "\n"
     ]
    }
   ],
   "source": [
    "print(metrics['report'])"
   ]
  },
  {
   "cell_type": "code",
   "execution_count": 69,
   "id": "6ad091be",
   "metadata": {},
   "outputs": [],
   "source": [
    "losses = [history[i]['train_loss'] for i in range(num_epochs+100) if history[i] is not None]"
   ]
  },
  {
   "cell_type": "code",
   "execution_count": 70,
   "id": "af6914ad",
   "metadata": {},
   "outputs": [
    {
     "data": {
      "image/png": "[encoded data removed]",
      "text/plain": [
       "<Figure size 1000x500 with 1 Axes>"
      ]
     },
     "metadata": {},
     "output_type": "display_data"
    }
   ],
   "source": [
    "import matplotlib.pyplot as plt\n",
    "import seaborn as sns\n",
    "sns.set_style(\"darkgrid\")\n",
    "\n",
    "plt.figure(figsize=(10, 5))\n",
    "plt.plot(losses, label='Train Loss')\n",
    "plt.title('Train Loss over Epochs')\n",
    "plt.xlabel('Epochs')\n",
    "plt.ylabel('Loss')\n",
    "plt.legend()\n",
    "plt.show()"
   ]
  },
  {
   "cell_type": "code",
   "execution_count": 71,
   "id": "18b43b15",
   "metadata": {},
   "outputs": [],
   "source": [
    "f1_score = [history[i]['metrics']['f1'] for i in range(num_epochs+100) if history[i] is not None]"
   ]
  },
  {
   "cell_type": "code",
   "execution_count": 72,
   "id": "d27be57e",
   "metadata": {},
   "outputs": [
    {
     "data": {
      "image/png": "[encoded data removed]",
      "text/plain": [
       "<Figure size 1000x500 with 1 Axes>"
      ]
     },
     "metadata": {},
     "output_type": "display_data"
    }
   ],
   "source": [
    "plt.figure(figsize=(10, 5))\n",
    "plt.plot(f1_score, label='Validation F1 Score', color='orange')\n",
    "plt.title('Validation F1 Score over Epochs')\n",
    "plt.xlabel('Epochs')\n",
    "plt.ylabel('F1 Score')\n",
    "plt.legend()\n",
    "plt.show()"
   ]
  },
  {
   "cell_type": "code",
   "execution_count": 74,
   "id": "56765a06",
   "metadata": {},
   "outputs": [
    {
     "data": {
      "text/plain": [
       "BiLSTM_CNN_Classifier(\n",
       "  (lstm): LSTM(768, 256, batch_first=True, bidirectional=True)\n",
       "  (conv): Conv1d(512, 256, kernel_size=(3,), stride=(1,), padding=(1,))\n",
       "  (norm): LayerNorm((256,), eps=1e-05, elementwise_affine=True)\n",
       "  (dropout): Dropout(p=0.1, inplace=False)\n",
       "  (classifier): Linear(in_features=256, out_features=59, bias=True)\n",
       ")"
      ]
     },
     "execution_count": 74,
     "metadata": {},
     "output_type": "execute_result"
    }
   ],
   "source": [
    "model"
   ]
  }
 ],
 "metadata": {
  "kernelspec": {
   "display_name": ".venv",
   "language": "python",
   "name": "python3"
  },
  "language_info": {
   "codemirror_mode": {
    "name": "ipython",
    "version": 3
   },
   "file_extension": ".py",
   "mimetype": "text/x-python",
   "name": "python",
   "nbconvert_exporter": "python",
   "pygments_lexer": "ipython3",
   "version": "3.9.21"
  }
 },
 "nbformat": 4,
 "nbformat_minor": 5
}
